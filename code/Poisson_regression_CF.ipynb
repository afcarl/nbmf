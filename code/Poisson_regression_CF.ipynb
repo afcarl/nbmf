{
 "metadata": {
  "name": "",
  "signature": "sha256:9ce83485c6e14faa3eb4a42b6a433e673a08ba13ba9f7ed99063e50f0cf17f77"
 },
 "nbformat": 3,
 "nbformat_minor": 0,
 "worksheets": [
  {
   "cells": [
    {
     "cell_type": "code",
     "collapsed": false,
     "input": [
      "%matplotlib inline"
     ],
     "language": "python",
     "metadata": {},
     "outputs": [],
     "prompt_number": 1
    },
    {
     "cell_type": "code",
     "collapsed": false,
     "input": [
      "import os\n",
      "\n",
      "import numpy as np\n",
      "import matplotlib.pyplot as plt\n",
      "import seaborn\n",
      "seaborn.set()\n",
      "\n",
      "os.environ['THEANO_FLAGS'] = 'floatX=float64, device=cpu, nvcc.fastmath=True'\n",
      "import theano\n",
      "import theano.tensor as T\n",
      "tf = theano.config.floatX"
     ],
     "language": "python",
     "metadata": {},
     "outputs": [
      {
       "output_type": "stream",
       "stream": "stderr",
       "text": [
        "Using gpu device 0: GeForce GT 650M\n"
       ]
      }
     ],
     "prompt_number": 2
    },
    {
     "cell_type": "code",
     "collapsed": false,
     "input": [],
     "language": "python",
     "metadata": {},
     "outputs": []
    }
   ],
   "metadata": {}
  }
 ]
}